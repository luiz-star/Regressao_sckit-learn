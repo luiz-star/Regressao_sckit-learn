{
  "nbformat": 4,
  "nbformat_minor": 0,
  "metadata": {
    "colab": {
      "name": "Regressao_scikit-Learn.ipynb",
      "provenance": [],
      "authorship_tag": "ABX9TyM9ZgDl6dAUnswsf8M6/AcE",
      "include_colab_link": true
    },
    "kernelspec": {
      "name": "python3",
      "display_name": "Python 3"
    },
    "language_info": {
      "name": "python"
    }
  },
  "cells": [
    {
      "cell_type": "markdown",
      "metadata": {
        "id": "view-in-github",
        "colab_type": "text"
      },
      "source": [
        "<a href=\"https://colab.research.google.com/github/luiz-star/Regressao_sckit-learn/blob/main/Regressao_scikit_Learn.ipynb\" target=\"_parent\"><img src=\"https://colab.research.google.com/assets/colab-badge.svg\" alt=\"Open In Colab\"/></a>"
      ]
    },
    {
      "cell_type": "markdown",
      "metadata": {
        "id": "qAt3HAQn00Md"
      },
      "source": [
        "# Regressão Linear no Scikit-Learn"
      ]
    },
    {
      "cell_type": "code",
      "metadata": {
        "id": "XZgvPg4W2P4V"
      },
      "source": [
        "#Importando Bibliotecas\n",
        "import numpy as np\n",
        "import pandas as pd\n",
        "import matplotlib.pyplot as plt\n"
      ],
      "execution_count": 19,
      "outputs": []
    },
    {
      "cell_type": "code",
      "metadata": {
        "id": "5Zk9MvF80hxU"
      },
      "source": [
        "# Dados\n",
        "\n",
        "x = [-1., -0.77777778, -0.55555556, -0.33333333, -0.11111111,\n",
        "     0.11111111, 0.33333333, 0.55555556, 0.77777778, 1. ]\n",
        "\n",
        "y = [-1.13956201, -0.57177999, -0.21697033, 0.5425699, 0.49406657,\n",
        "     1.14972239, 1.64228553, 2.1749824, 2.64773614, 2.95684202]"
      ],
      "execution_count": 20,
      "outputs": []
    },
    {
      "cell_type": "code",
      "metadata": {
        "colab": {
          "base_uri": "https://localhost:8080/",
          "height": 334
        },
        "id": "blPX4nxQ2fPP",
        "outputId": "e13d8105-9674-497d-f033-3b329fea907a"
      },
      "source": [
        "# plot dos dados\n",
        "plt.figure(figsize=(10, 5))\n",
        "plt.plot(x, y, 'o', label='dados originais')\n",
        "plt.legend()\n",
        "plt.xlabel('x')\n",
        "plt.ylabel('y')\n",
        "plt.grid()\n",
        "plt.show()"
      ],
      "execution_count": 21,
      "outputs": [
        {
          "output_type": "display_data",
          "data": {
            "image/png": "[encoded data removed]",
            "text/plain": [
              "<Figure size 720x360 with 1 Axes>"
            ]
          },
          "metadata": {
            "tags": [],
            "needs_background": "light"
          }
        }
      ]
    },
    {
      "cell_type": "code",
      "metadata": {
        "id": "vUcKtDuT2fLM"
      },
      "source": [
        "# transformando em numpy array\n",
        "x, y = np.array(x).reshape(-1, 1), np.array(y).reshape(-1, 1)"
      ],
      "execution_count": 22,
      "outputs": []
    },
    {
      "cell_type": "code",
      "metadata": {
        "id": "YKKySdm42fIT"
      },
      "source": [
        "# modelo\n",
        "from sklearn.linear_model import LinearRegression"
      ],
      "execution_count": 23,
      "outputs": []
    },
    {
      "cell_type": "code",
      "metadata": {
        "colab": {
          "base_uri": "https://localhost:8080/"
        },
        "id": "yypTutua2fE1",
        "outputId": "f20c7816-a05e-47fc-82e6-7bdc56411e25"
      },
      "source": [
        "# treinando o modelo: y = a*x +b, valores reais (a, b) = (2, 1)\n",
        "reg = LinearRegression()\n",
        "reg.fit(x, y)"
      ],
      "execution_count": 24,
      "outputs": [
        {
          "output_type": "execute_result",
          "data": {
            "text/plain": [
              "LinearRegression(copy_X=True, fit_intercept=True, n_jobs=None, normalize=False)"
            ]
          },
          "metadata": {
            "tags": []
          },
          "execution_count": 24
        }
      ]
    },
    {
      "cell_type": "code",
      "metadata": {
        "colab": {
          "base_uri": "https://localhost:8080/"
        },
        "id": "1BOlD-Xt2fAj",
        "outputId": "6cde9390-c859-42b0-d667-93535045de11"
      },
      "source": [
        "# coeficientes a, b estimados:\n",
        "# valores estimados usando numpy diretamente\n",
        "# a estimado no numpy :  2.05414951\n",
        "# b estimado no numpy : 0.96798926\n",
        "print('a estimado:', reg.coef_.ravel()[0])\n",
        "print('b estimado', reg.intercept_[0])"
      ],
      "execution_count": 25,
      "outputs": [
        {
          "output_type": "stream",
          "text": [
            "a estimado: 2.0541495120384856\n",
            "b estimado 0.967989262\n"
          ],
          "name": "stdout"
        }
      ]
    },
    {
      "cell_type": "code",
      "metadata": {
        "id": "8bpsDDNB2e6c"
      },
      "source": [
        "# predição do modelo\n",
        "y_pred = reg.predict(x)"
      ],
      "execution_count": 26,
      "outputs": []
    },
    {
      "cell_type": "code",
      "metadata": {
        "colab": {
          "base_uri": "https://localhost:8080/"
        },
        "id": "XkMydAn38YF8",
        "outputId": "1e41da78-91c2-499c-fbee-cc860f74d835"
      },
      "source": [
        "# score do modelo ( quanto mais perto de 1 melhor)\n",
        "score = reg.score(x, y)\n",
        "print('score:', score)"
      ],
      "execution_count": 27,
      "outputs": [
        {
          "output_type": "stream",
          "text": [
            "score: 0.9911602676388084\n"
          ],
          "name": "stdout"
        }
      ]
    },
    {
      "cell_type": "code",
      "metadata": {
        "colab": {
          "base_uri": "https://localhost:8080/",
          "height": 350
        },
        "id": "Kgx4LOBB8X4z",
        "outputId": "510122cc-10fa-4315-9c1a-ac8f0ba80e52"
      },
      "source": [
        "# plot dos dados\n",
        "plt.figure(figsize=(10, 5))\n",
        "plt.plot(x, y, 'o', label='dados originais')\n",
        "plt.plot(x, y_pred, label='regressão linear (R2: {:.3f})'.format(score))\n",
        "plt.legend()\n",
        "plt.xlabel('x')\n",
        "plt.ylabel('y')\n",
        "plt.title('Regressão linear no Scikit-Learn')\n",
        "plt.grid()\n",
        "plt.show()"
      ],
      "execution_count": 28,
      "outputs": [
        {
          "output_type": "display_data",
          "data": {
            "image/png": "[encoded data removed]",
            "text/plain": [
              "<Figure size 720x360 with 1 Axes>"
            ]
          },
          "metadata": {
            "tags": [],
            "needs_background": "light"
          }
        }
      ]
    },
    {
      "cell_type": "code",
      "metadata": {
        "id": "wAPkMmCI-GiN"
      },
      "source": [
        ""
      ],
      "execution_count": null,
      "outputs": []
    },
    {
      "cell_type": "markdown",
      "metadata": {
        "id": "i5YY01F8-IRO"
      },
      "source": [
        "# Regressão linear no Scilit- learn- ll"
      ]
    },
    {
      "cell_type": "code",
      "metadata": {
        "colab": {
          "base_uri": "https://localhost:8080/",
          "height": 350
        },
        "id": "_JP6wDa2-FUL",
        "outputId": "301f76a3-d90d-45d0-c63c-c34c5cfbc0ac"
      },
      "source": [
        "# plot dos dados\n",
        "plt.figure(figsize=(10, 5))\n",
        "plt.plot(x, y, 'o', label='dados originais')\n",
        "plt.plot(x, y_pred, label='regressão linear (R2: {:.4f}'.format(score))\n",
        "plt.hlines(y=y.mean(), xmin=x.min(), xmax=x.max(), linestyle='dashed',# Baseline\n",
        "           label='Modelo de refer~encia do $R^2$')\n",
        "plt.legend()\n",
        "plt.xlabel('x')\n",
        "plt.ylabel('y')\n",
        "plt.title('Regressão linear no Scikit-Learn')\n",
        "plt.grid()\n",
        "plt.show()"
      ],
      "execution_count": 30,
      "outputs": [
        {
          "output_type": "display_data",
          "data": {
            "image/png": "[encoded data removed]",
            "text/plain": [
              "<Figure size 720x360 with 1 Axes>"
            ]
          },
          "metadata": {
            "tags": [],
            "needs_background": "light"
          }
        }
      ]
    },
    {
      "cell_type": "code",
      "metadata": {
        "id": "r577tXmuJNUI"
      },
      "source": [
        "# função para calculo do MSE\n",
        "def mse(y_true, y_pred, is_ref = False):\n",
        "\n",
        "  # mse modelo\n",
        "  if is_ref:\n",
        "    mse = ((y_true - y_true.mean())**2).mean()\n",
        "  else:\n",
        "    mse = ((y_true - y_true - y_pred)**2).mean()  \n",
        "  return mse  "
      ],
      "execution_count": 31,
      "outputs": []
    },
    {
      "cell_type": "code",
      "metadata": {
        "id": "SE4B45HSMru5"
      },
      "source": [
        "# função para o calculo do coeficiente de determinação R2\n",
        "def r2(mse_reg, mse_ref):\n",
        "  return 1 - mse_reg/mse_ref"
      ],
      "execution_count": 32,
      "outputs": []
    },
    {
      "cell_type": "code",
      "metadata": {
        "colab": {
          "base_uri": "https://localhost:8080/"
        },
        "id": "gqD2auoYNzgG",
        "outputId": "35f1f99b-65ff-48a9-af4d-5180f3a33f91"
      },
      "source": [
        "# visualizando y e y_pred\n",
        "print('Y_true:', y.ravel())\n",
        "print('y_pred:', y_pred.ravel())"
      ],
      "execution_count": 33,
      "outputs": [
        {
          "output_type": "stream",
          "text": [
            "Y_true: [-1.13956201 -0.57177999 -0.21697033  0.5425699   0.49406657  1.14972239\n",
            "  1.64228553  2.1749824   2.64773614  2.95684202]\n",
            "y_pred: [-1.08616025 -0.62968259 -0.17320492  0.28327276  0.73975043  1.19622809\n",
            "  1.65270576  2.10918344  2.56566111  3.02213877]\n"
          ],
          "name": "stdout"
        }
      ]
    },
    {
      "cell_type": "code",
      "metadata": {
        "colab": {
          "base_uri": "https://localhost:8080/"
        },
        "id": "s08DqxBrNzWn",
        "outputId": "3d23f55b-a489-4ec0-d5ed-94a160438dfb"
      },
      "source": [
        "# calculando o mse dos modelos\n",
        "mse_reg = mse(y_true=y, y_pred=y_pred)\n",
        "print('MSE do modelo de regressão:', mse_reg)\n",
        "mse_ref = mse(y_true=y, y_pred=y_pred, is_ref=True)\n",
        "print('Mse do modelo de referência:', mse_ref)"
      ],
      "execution_count": 35,
      "outputs": [
        {
          "output_type": "stream",
          "text": [
            "MSE do modelo de regressão: 2.656071082862579\n",
            "Mse do modelo de referência: 1.734399498892871\n"
          ],
          "name": "stdout"
        }
      ]
    },
    {
      "cell_type": "code",
      "metadata": {
        "colab": {
          "base_uri": "https://localhost:8080/"
        },
        "id": "lCSf3VQrPBkj",
        "outputId": "a9b1e10e-f9a4-4ddf-82fe-d82dbab66f78"
      },
      "source": [
        "# calculando o R2 score\n",
        "r2_score = r2(mse_reg=mse_reg, mse_ref=mse_ref)\n",
        "print('Coeficiente R2 do modelo implementado (calculado):', r2_score)"
      ],
      "execution_count": 36,
      "outputs": [
        {
          "output_type": "stream",
          "text": [
            "Coeficiente R2 do modelo implementado (calculado): -0.5314067402337488\n"
          ],
          "name": "stdout"
        }
      ]
    },
    {
      "cell_type": "code",
      "metadata": {
        "id": "yMa2TRDmPBfU"
      },
      "source": [
        ""
      ],
      "execution_count": null,
      "outputs": []
    }
  ]
}